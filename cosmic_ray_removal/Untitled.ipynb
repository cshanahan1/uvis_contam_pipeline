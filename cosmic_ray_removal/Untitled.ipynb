{
 "cells": [
  {
   "cell_type": "code",
   "execution_count": 5,
   "metadata": {
    "collapsed": false
   },
   "outputs": [
    {
     "name": "stdout",
     "output_type": "stream",
     "text": [
      "Detecting saturated stars ...\n",
      "Building mask of saturated stars ...\n",
      "We have 0 saturated stars.\n",
      "Mask of saturated stars done\n",
      "Starting 4 L.A.Cosmic iterations ...\n",
      "Iteration 1\n"
     ]
    },
    {
     "name": "stderr",
     "output_type": "stream",
     "text": [
      "cosmics.py:448: FutureWarning: comparison to `None` will result in an elementwise object comparison in the future.\n",
      "  if self.satstars != None:\n",
      "cosmics.py:501: FutureWarning: comparison to `None` will result in an elementwise object comparison in the future.\n",
      "  if self.satstars != None:\n",
      "cosmics.py:236: FutureWarning: comparison to `None` will result in an elementwise object comparison in the future.\n",
      "  if self.satstars != None:\n"
     ]
    },
    {
     "name": "stdout",
     "output_type": "stream",
     "text": [
      "73989 cosmic pixels (73989 new)\n",
      "Iteration 2\n",
      "39527 cosmic pixels (34219 new)\n",
      "OH NO, I HAVE A HUUUUUUUGE COSMIC !!!!!\n",
      "Iteration 3\n",
      "23160 cosmic pixels (17795 new)\n",
      "OH NO, I HAVE A HUUUUUUUGE COSMIC !!!!!\n",
      "OH NO, I HAVE A HUUUUUUUGE COSMIC !!!!!\n",
      "OH NO, I HAVE A HUUUUUUUGE COSMIC !!!!!\n",
      "OH NO, I HAVE A HUUUUUUUGE COSMIC !!!!!\n",
      "OH NO, I HAVE A HUUUUUUUGE COSMIC !!!!!\n",
      "OH NO, I HAVE A HUUUUUUUGE COSMIC !!!!!\n",
      "OH NO, I HAVE A HUUUUUUUGE COSMIC !!!!!\n",
      "OH NO, I HAVE A HUUUUUUUGE COSMIC !!!!!\n",
      "OH NO, I HAVE A HUUUUUUUGE COSMIC !!!!!\n",
      "OH NO, I HAVE A HUUUUUUUGE COSMIC !!!!!\n",
      "OH NO, I HAVE A HUUUUUUUGE COSMIC !!!!!\n",
      "OH NO, I HAVE A HUUUUUUUGE COSMIC !!!!!\n",
      "OH NO, I HAVE A HUUUUUUUGE COSMIC !!!!!\n",
      "OH NO, I HAVE A HUUUUUUUGE COSMIC !!!!!\n",
      "OH NO, I HAVE A HUUUUUUUGE COSMIC !!!!!\n",
      "OH NO, I HAVE A HUUUUUUUGE COSMIC !!!!!\n",
      "OH NO, I HAVE A HUUUUUUUGE COSMIC !!!!!\n",
      "OH NO, I HAVE A HUUUUUUUGE COSMIC !!!!!\n",
      "OH NO, I HAVE A HUUUUUUUGE COSMIC !!!!!\n",
      "OH NO, I HAVE A HUUUUUUUGE COSMIC !!!!!\n",
      "OH NO, I HAVE A HUUUUUUUGE COSMIC !!!!!\n",
      "OH NO, I HAVE A HUUUUUUUGE COSMIC !!!!!\n",
      "OH NO, I HAVE A HUUUUUUUGE COSMIC !!!!!\n",
      "OH NO, I HAVE A HUUUUUUUGE COSMIC !!!!!\n",
      "Iteration 4\n",
      "15020 cosmic pixels (10082 new)\n",
      "OH NO, I HAVE A HUUUUUUUGE COSMIC !!!!!\n",
      "OH NO, I HAVE A HUUUUUUUGE COSMIC !!!!!\n",
      "OH NO, I HAVE A HUUUUUUUGE COSMIC !!!!!\n",
      "OH NO, I HAVE A HUUUUUUUGE COSMIC !!!!!\n",
      "OH NO, I HAVE A HUUUUUUUGE COSMIC !!!!!\n",
      "OH NO, I HAVE A HUUUUUUUGE COSMIC !!!!!\n",
      "OH NO, I HAVE A HUUUUUUUGE COSMIC !!!!!\n",
      "OH NO, I HAVE A HUUUUUUUGE COSMIC !!!!!\n",
      "OH NO, I HAVE A HUUUUUUUGE COSMIC !!!!!\n",
      "OH NO, I HAVE A HUUUUUUUGE COSMIC !!!!!\n",
      "OH NO, I HAVE A HUUUUUUUGE COSMIC !!!!!\n",
      "OH NO, I HAVE A HUUUUUUUGE COSMIC !!!!!\n",
      "OH NO, I HAVE A HUUUUUUUGE COSMIC !!!!!\n",
      "OH NO, I HAVE A HUUUUUUUGE COSMIC !!!!!\n",
      "OH NO, I HAVE A HUUUUUUUGE COSMIC !!!!!\n",
      "OH NO, I HAVE A HUUUUUUUGE COSMIC !!!!!\n",
      "OH NO, I HAVE A HUUUUUUUGE COSMIC !!!!!\n",
      "OH NO, I HAVE A HUUUUUUUGE COSMIC !!!!!\n",
      "OH NO, I HAVE A HUUUUUUUGE COSMIC !!!!!\n",
      "OH NO, I HAVE A HUUUUUUUGE COSMIC !!!!!\n",
      "OH NO, I HAVE A HUUUUUUUGE COSMIC !!!!!\n",
      "OH NO, I HAVE A HUUUUUUUGE COSMIC !!!!!\n",
      "OH NO, I HAVE A HUUUUUUUGE COSMIC !!!!!\n",
      "OH NO, I HAVE A HUUUUUUUGE COSMIC !!!!!\n",
      "OH NO, I HAVE A HUUUUUUUGE COSMIC !!!!!\n",
      "OH NO, I HAVE A HUUUUUUUGE COSMIC !!!!!\n",
      "OH NO, I HAVE A HUUUUUUUGE COSMIC !!!!!\n",
      "OH NO, I HAVE A HUUUUUUUGE COSMIC !!!!!\n",
      "OH NO, I HAVE A HUUUUUUUGE COSMIC !!!!!\n",
      "OH NO, I HAVE A HUUUUUUUGE COSMIC !!!!!\n",
      "OH NO, I HAVE A HUUUUUUUGE COSMIC !!!!!\n",
      "OH NO, I HAVE A HUUUUUUUGE COSMIC !!!!!\n",
      "OH NO, I HAVE A HUUUUUUUGE COSMIC !!!!!\n",
      "OH NO, I HAVE A HUUUUUUUGE COSMIC !!!!!\n",
      "OH NO, I HAVE A HUUUUUUUGE COSMIC !!!!!\n",
      "OH NO, I HAVE A HUUUUUUUGE COSMIC !!!!!\n",
      "OH NO, I HAVE A HUUUUUUUGE COSMIC !!!!!\n",
      "OH NO, I HAVE A HUUUUUUUGE COSMIC !!!!!\n",
      "OH NO, I HAVE A HUUUUUUUGE COSMIC !!!!!\n",
      "OH NO, I HAVE A HUUUUUUUGE COSMIC !!!!!\n",
      "OH NO, I HAVE A HUUUUUUUGE COSMIC !!!!!\n",
      "OH NO, I HAVE A HUUUUUUUGE COSMIC !!!!!\n",
      "OH NO, I HAVE A HUUUUUUUGE COSMIC !!!!!\n",
      "OH NO, I HAVE A HUUUUUUUGE COSMIC !!!!!\n",
      "OH NO, I HAVE A HUUUUUUUGE COSMIC !!!!!\n",
      "OH NO, I HAVE A HUUUUUUUGE COSMIC !!!!!\n",
      "OH NO, I HAVE A HUUUUUUUGE COSMIC !!!!!\n",
      "OH NO, I HAVE A HUUUUUUUGE COSMIC !!!!!\n",
      "OH NO, I HAVE A HUUUUUUUGE COSMIC !!!!!\n",
      "OH NO, I HAVE A HUUUUUUUGE COSMIC !!!!!\n"
     ]
    },
    {
     "ename": "NameError",
     "evalue": "name 'filename' is not defined",
     "output_type": "error",
     "traceback": [
      "\u001b[0;31m---------------------------------------------------------------------------\u001b[0m",
      "\u001b[0;31mNameError\u001b[0m                                 Traceback (most recent call last)",
      "\u001b[0;32m<ipython-input-5-0eff135f1221>\u001b[0m in \u001b[0;36m<module>\u001b[0;34m()\u001b[0m\n\u001b[1;32m     22\u001b[0m \u001b[0;31m#Write out the cleaned array to a fits file (single extension, if you wish to work with multi extension files\u001b[0m\u001b[0;34m\u001b[0m\u001b[0;34m\u001b[0m\u001b[0m\n\u001b[1;32m     23\u001b[0m \u001b[0;31m#you can do this part iterativley after running lacosmic on each extension)\u001b[0m\u001b[0;34m\u001b[0m\u001b[0;34m\u001b[0m\u001b[0m\n\u001b[0;32m---> 24\u001b[0;31m \u001b[0mcosmics\u001b[0m\u001b[0;34m.\u001b[0m\u001b[0mtofits\u001b[0m\u001b[0;34m(\u001b[0m\u001b[0mfilename\u001b[0m\u001b[0;34m.\u001b[0m\u001b[0msplit\u001b[0m\u001b[0;34m(\u001b[0m\u001b[0;34m'.fits'\u001b[0m\u001b[0;34m)\u001b[0m\u001b[0;34m[\u001b[0m\u001b[0;36m0\u001b[0m\u001b[0;34m]\u001b[0m\u001b[0;34m+\u001b[0m\u001b[0;34m'.clean.fits'\u001b[0m\u001b[0;34m,\u001b[0m \u001b[0mc\u001b[0m\u001b[0;34m.\u001b[0m\u001b[0mcleanarray\u001b[0m\u001b[0;34m,\u001b[0m \u001b[0mheaderr\u001b[0m\u001b[0;34m,\u001b[0m \u001b[0mverbose\u001b[0m\u001b[0;34m=\u001b[0m\u001b[0mFalse\u001b[0m\u001b[0;34m)\u001b[0m\u001b[0;34m\u001b[0m\u001b[0m\n\u001b[0m\u001b[1;32m     25\u001b[0m \u001b[0;34m\u001b[0m\u001b[0m\n\u001b[1;32m     26\u001b[0m \u001b[0;31m#write out the mask fits file\u001b[0m\u001b[0;34m\u001b[0m\u001b[0;34m\u001b[0m\u001b[0m\n",
      "\u001b[0;31mNameError\u001b[0m: name 'filename' is not defined"
     ]
    }
   ],
   "source": [
    "import cosmics\n",
    "from astropy.io import fits\n",
    "\n",
    "hdulist = fits.open('file.fits')\n",
    "\n",
    "array = hdulist[1].data \n",
    "\n",
    "#Set function parameters (see cosmics documentation for allowed parameters)\n",
    "#You will have to play around with which combination of parameters works best\n",
    "#To optimize masking rays while not masking source pixels. These are dummy values.\n",
    "gain = 1.5 \n",
    "readnoise = 3.0\n",
    "sigclip = 1\n",
    "sigfrac = 1\n",
    "objlim = 1 \n",
    "\n",
    "# Build the object \n",
    "c = cosmics.cosmicsimage(array, gain=gain, readnoise=readnoise, sigclip = sigclip, sigfrac = sigfrac, objlim = objlim)\n",
    "\n",
    "# Run the lacosmic routine, choosing the # of iterations (maxiter). \n",
    "c.run(maxiter = 4, verbose=False)\n",
    "\n",
    "#Write out the cleaned array to a fits file (single extension, if you wish to work with multi extension files\n",
    "#you can do this part iterativley after running lacosmic on each extension)\n",
    "cosmics.tofits(filename.split('.fits')[0]+'.clean.fits', c.cleanarray, headerr, verbose=False)\n",
    "\n",
    "#write out the mask fits file\n",
    "cosmics.tofits(filename.split('.fits')[0]+'.mask.fits', c.mask, headerr,verbose=False)\n",
    "\n",
    "\n",
    "\n"
   ]
  },
  {
   "cell_type": "code",
   "execution_count": null,
   "metadata": {
    "collapsed": true
   },
   "outputs": [],
   "source": []
  }
 ],
 "metadata": {
  "kernelspec": {
   "display_name": "Python 2",
   "language": "python",
   "name": "python2"
  },
  "language_info": {
   "codemirror_mode": {
    "name": "ipython",
    "version": 2
   },
   "file_extension": ".py",
   "mimetype": "text/x-python",
   "name": "python",
   "nbconvert_exporter": "python",
   "pygments_lexer": "ipython2",
   "version": "2.7.13"
  }
 },
 "nbformat": 4,
 "nbformat_minor": 0
}
