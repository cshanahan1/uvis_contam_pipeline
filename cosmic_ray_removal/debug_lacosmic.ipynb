{
 "cells": [
  {
   "cell_type": "code",
   "execution_count": 19,
   "metadata": {
    "collapsed": true
   },
   "outputs": [],
   "source": [
    "import glob \n",
    "from astropy.io import fits\n",
    "import cosmics\n",
    "from lacosmic_param_dictionary import lacosmic_param_dictionary"
   ]
  },
  {
   "cell_type": "code",
   "execution_count": 20,
   "metadata": {},
   "outputs": [
    {
     "name": "stdout",
     "output_type": "stream",
     "text": [
      "/grp/hst/wfc3t/cshanahan/UVIS_contam_monitor/data/data/GRW70/F225W/iaau11h9q_flt.fits\n"
     ]
    }
   ],
   "source": [
    "files = glob.glob('/grp/hst/wfc3t/cshanahan/UVIS_contam_monitor/data/data/GRW70/F225W/*flt.fits')\n",
    "test = files[2]\n",
    "print test"
   ]
  },
  {
   "cell_type": "code",
   "execution_count": 21,
   "metadata": {},
   "outputs": [
    {
     "name": "stdout",
     "output_type": "stream",
     "text": [
      "[[ -1.74356139e+00   1.23461688e+00  -5.19813634e-02 ...,   5.61696470e-01\n",
      "   -4.90431756e-01  -2.07211375e+00]\n",
      " [ -9.44562107e-02   1.09629548e+00  -3.37014437e+00 ...,  -2.52374315e+00\n",
      "   -4.74685907e-01  -5.26996231e+00]\n",
      " [  1.79945874e+00  -5.69626272e-01  -1.82692379e-01 ...,  -3.51930928e+00\n",
      "    2.76948166e+00   6.18111086e+00]\n",
      " ..., \n",
      " [ -7.46704636e+01   6.52100525e+01   5.71090927e+01 ...,  -5.17246723e+00\n",
      "    1.23577547e+00  -3.50062180e+00]\n",
      " [ -1.02563560e+02   7.95257339e+01   1.43829514e+02 ...,   9.70912695e-01\n",
      "    1.55302882e+00  -3.54164529e+00]\n",
      " [ -3.46829865e+02  -2.00037674e+02  -3.21746948e+02 ...,   1.54602444e+00\n",
      "   -5.01911068e+00   2.81893516e+00]]\n"
     ]
    }
   ],
   "source": [
    "param_dict = lacosmic_param_dictionary()\n",
    "filt = 'F225W'\n",
    "sigclip = param_dict[filt][0]\n",
    "sigfrac = param_dict[filt][1]\n",
    "objlim = param_dict[filt][2]\n",
    "niter = param_dict[filt][3]\n",
    "sigclip_pf = param_dict[filt][4]\n",
    "\n",
    "fits_file = fits.open(test)\n",
    "arrayy=fits_file[1].data\n",
    "\n",
    "print arrayy"
   ]
  },
  {
   "cell_type": "code",
   "execution_count": 22,
   "metadata": {},
   "outputs": [
    {
     "name": "stdout",
     "output_type": "stream",
     "text": [
      "Detecting saturated stars ...\n",
      "Building mask of saturated stars ...\n",
      "We have 0 saturated stars.\n",
      "Mask of saturated stars done\n",
      "Starting 6 L.A.Cosmic iterations ...\n",
      "Iteration 1\n"
     ]
    },
    {
     "ename": "ValueError",
     "evalue": "The truth value of an array with more than one element is ambiguous. Use a.any() or a.all()",
     "output_type": "error",
     "traceback": [
      "\u001b[0;31m---------------------------------------------------------------------------\u001b[0m",
      "\u001b[0;31mValueError\u001b[0m                                Traceback (most recent call last)",
      "\u001b[0;32m<ipython-input-22-248370f02c24>\u001b[0m in \u001b[0;36m<module>\u001b[0;34m()\u001b[0m\n\u001b[1;32m      1\u001b[0m \u001b[0mc\u001b[0m \u001b[0;34m=\u001b[0m \u001b[0mcosmics\u001b[0m\u001b[0;34m.\u001b[0m\u001b[0mcosmicsimage\u001b[0m\u001b[0;34m(\u001b[0m\u001b[0marrayy\u001b[0m\u001b[0;34m,\u001b[0m \u001b[0mgain\u001b[0m\u001b[0;34m=\u001b[0m\u001b[0;36m1.5\u001b[0m\u001b[0;34m,\u001b[0m \u001b[0mreadnoise\u001b[0m\u001b[0;34m=\u001b[0m\u001b[0;36m3.0\u001b[0m\u001b[0;34m,\u001b[0m \u001b[0msigclip\u001b[0m \u001b[0;34m=\u001b[0m \u001b[0msigclip\u001b[0m\u001b[0;34m,\u001b[0m \u001b[0msigfrac\u001b[0m \u001b[0;34m=\u001b[0m \u001b[0msigfrac\u001b[0m\u001b[0;34m,\u001b[0m \u001b[0mobjlim\u001b[0m \u001b[0;34m=\u001b[0m \u001b[0mobjlim\u001b[0m\u001b[0;34m,\u001b[0m \u001b[0mverbose\u001b[0m\u001b[0;34m=\u001b[0m\u001b[0mFalse\u001b[0m\u001b[0;34m)\u001b[0m\u001b[0;34m\u001b[0m\u001b[0m\n\u001b[0;32m----> 2\u001b[0;31m \u001b[0mc\u001b[0m\u001b[0;34m.\u001b[0m\u001b[0mrun\u001b[0m\u001b[0;34m(\u001b[0m\u001b[0mmaxiter\u001b[0m \u001b[0;34m=\u001b[0m \u001b[0mniter\u001b[0m\u001b[0;34m,\u001b[0m \u001b[0mverbose\u001b[0m\u001b[0;34m=\u001b[0m\u001b[0mFalse\u001b[0m\u001b[0;34m)\u001b[0m\u001b[0;34m\u001b[0m\u001b[0m\n\u001b[0m",
      "\u001b[0;32m/grp/hst/wfc3t/cshanahan/UVIS_contam_monitor/cosmic_ray_removal/cosmics.pyc\u001b[0m in \u001b[0;36mrun\u001b[0;34m(self, maxiter, verbose)\u001b[0m\n\u001b[1;32m    600\u001b[0m                 \u001b[0;32mfor\u001b[0m \u001b[0mi\u001b[0m \u001b[0;32min\u001b[0m \u001b[0mrange\u001b[0m\u001b[0;34m(\u001b[0m\u001b[0;36m1\u001b[0m\u001b[0;34m,\u001b[0m \u001b[0mmaxiter\u001b[0m\u001b[0;34m+\u001b[0m\u001b[0;36m1\u001b[0m\u001b[0;34m)\u001b[0m\u001b[0;34m:\u001b[0m\u001b[0;34m\u001b[0m\u001b[0m\n\u001b[1;32m    601\u001b[0m                         \u001b[0;32mprint\u001b[0m \u001b[0;34m\"Iteration %i\"\u001b[0m \u001b[0;34m%\u001b[0m \u001b[0mi\u001b[0m\u001b[0;34m\u001b[0m\u001b[0m\n\u001b[0;32m--> 602\u001b[0;31m \u001b[0;34m\u001b[0m\u001b[0m\n\u001b[0m\u001b[1;32m    603\u001b[0m                         \u001b[0miterres\u001b[0m \u001b[0;34m=\u001b[0m \u001b[0mself\u001b[0m\u001b[0;34m.\u001b[0m\u001b[0mlacosmiciteration\u001b[0m\u001b[0;34m(\u001b[0m\u001b[0mverbose\u001b[0m\u001b[0;34m=\u001b[0m\u001b[0mverbose\u001b[0m\u001b[0;34m)\u001b[0m\u001b[0;34m\u001b[0m\u001b[0m\n\u001b[1;32m    604\u001b[0m                         \u001b[0;32mprint\u001b[0m \u001b[0;34m\"%i cosmic pixels (%i new)\"\u001b[0m \u001b[0;34m%\u001b[0m \u001b[0;34m(\u001b[0m\u001b[0miterres\u001b[0m\u001b[0;34m[\u001b[0m\u001b[0;34m\"niter\"\u001b[0m\u001b[0;34m]\u001b[0m\u001b[0;34m,\u001b[0m \u001b[0miterres\u001b[0m\u001b[0;34m[\u001b[0m\u001b[0;34m\"nnew\"\u001b[0m\u001b[0;34m]\u001b[0m\u001b[0;34m)\u001b[0m\u001b[0;34m\u001b[0m\u001b[0m\n",
      "\u001b[0;32m/grp/hst/wfc3t/cshanahan/UVIS_contam_monitor/cosmic_ray_removal/cosmics.pyc\u001b[0m in \u001b[0;36mlacosmiciteration\u001b[0;34m(self, verbose)\u001b[0m\n\u001b[1;32m    446\u001b[0m \u001b[0;34m\u001b[0m\u001b[0m\n\u001b[1;32m    447\u001b[0m                 \u001b[0;31m# At this stage we use the saturated stars to mask the candidates, if available :\u001b[0m\u001b[0;34m\u001b[0m\u001b[0;34m\u001b[0m\u001b[0m\n\u001b[0;32m--> 448\u001b[0;31m \u001b[0;34m\u001b[0m\u001b[0m\n\u001b[0m\u001b[1;32m    449\u001b[0m                 \u001b[0;32mif\u001b[0m \u001b[0mself\u001b[0m\u001b[0;34m.\u001b[0m\u001b[0msatstars\u001b[0m \u001b[0;34m!=\u001b[0m \u001b[0mNone\u001b[0m\u001b[0;34m:\u001b[0m\u001b[0;34m\u001b[0m\u001b[0m\n\u001b[1;32m    450\u001b[0m                         \u001b[0;32mif\u001b[0m \u001b[0mverbose\u001b[0m\u001b[0;34m:\u001b[0m\u001b[0;34m\u001b[0m\u001b[0m\n",
      "\u001b[0;31mValueError\u001b[0m: The truth value of an array with more than one element is ambiguous. Use a.any() or a.all()"
     ]
    }
   ],
   "source": [
    "c = cosmics.cosmicsimage(arrayy, gain=1.5, readnoise=3.0, sigclip = sigclip, sigfrac = sigfrac, objlim = objlim, verbose=False)\n",
    "c.run(maxiter = niter, verbose=False)"
   ]
  },
  {
   "cell_type": "code",
   "execution_count": null,
   "metadata": {
    "collapsed": true
   },
   "outputs": [],
   "source": []
  }
 ],
 "metadata": {
  "kernelspec": {
   "display_name": "Python 2",
   "language": "python",
   "name": "python2"
  },
  "language_info": {
   "codemirror_mode": {
    "name": "ipython",
    "version": 2
   },
   "file_extension": ".py",
   "mimetype": "text/x-python",
   "name": "python",
   "nbconvert_exporter": "python",
   "pygments_lexer": "ipython2",
   "version": "2.7.13"
  }
 },
 "nbformat": 4,
 "nbformat_minor": 2
}
