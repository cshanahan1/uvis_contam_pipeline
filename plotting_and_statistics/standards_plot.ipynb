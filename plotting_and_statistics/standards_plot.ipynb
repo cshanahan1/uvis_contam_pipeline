{
 "cells": [
  {
   "cell_type": "code",
   "execution_count": 106,
   "metadata": {
    "collapsed": true
   },
   "outputs": [],
   "source": [
    "# import module that sets formatting parameters\n",
    "from matplotlib import rc\n",
    "# change default font for all plot text to LaTeX font; also change font size\n",
    "rc('font', **{'family': 'serif', 'serif': ['Computer Modern Roman'], 'size': 14})\n",
    "# allow TeX commands to be used in text strings\n",
    "rc('text', usetex=True)\n",
    "\n",
    "%matplotlib inline\n",
    "import matplotlib.pyplot as plt\n",
    "import numpy as np\n",
    "from astropy.io import fits\n",
    "\n"
   ]
  },
  {
   "cell_type": "code",
   "execution_count": 107,
   "metadata": {
    "collapsed": false
   },
   "outputs": [],
   "source": [
    "grw_spec = '/grp/hst/cdbs/calspec/grw_70d5824_stisnic_006.fits'\n",
    "gd_spec = '/grp/hst/cdbs/calspec/gd153_stisnic_006.fits'\n",
    "\n",
    "grw_dat = fits.open(grw_spec)[1].data\n",
    "gd_dat = fits.open(gd_spec)[1].data\n"
   ]
  },
  {
   "cell_type": "code",
   "execution_count": 132,
   "metadata": {
    "collapsed": false
   },
   "outputs": [
    {
     "data": {
      "text/plain": [
       "<matplotlib.text.Text at 0x11e278150>"
      ]
     },
     "execution_count": 132,
     "metadata": {},
     "output_type": "execute_result"
    },
    {
     "data": {
      "image/png": "[encoded data removed]",
      "text/plain": [
       "<matplotlib.figure.Figure at 0x11dabec50>"
      ]
     },
     "metadata": {},
     "output_type": "display_data"
    }
   ],
   "source": [
    "# import module that sets formatting parameters\n",
    "from matplotlib import rc\n",
    "# change default font for all plot text to LaTeX font; also change font size\n",
    "rc('font', **{'family': 'serif', 'serif': ['Computer Modern Roman'], 'size': 14})\n",
    "# allow TeX commands to be used in text strings\n",
    "rc('text', usetex=True)\n",
    "\n",
    "import matplotlib.pyplot as plt\n",
    "import numpy as np\n",
    "from astropy.io import fits\n",
    "\n",
    "grw_spec = '/grp/hst/cdbs/calspec/grw_70d5824_stisnic_006.fits'\n",
    "gd_spec = '/grp/hst/cdbs/calspec/gd153_stisnic_006.fits'\n",
    "\n",
    "grw_dat = fits.open(grw_spec)[1].data\n",
    "gd_dat = fits.open(gd_spec)[1].data\n",
    "\n",
    "grw_wavelength = [item[0] for item in grw_dat]\n",
    "grw_flux =  np.log10([item[1] for item in grw_dat])\n",
    "\n",
    "gd_wavelength = [item[0] for item in gd_dat]\n",
    "gd_flux =  np.log10([item[1] for item in gd_dat])\n",
    "\n",
    "plt.plot(grw_wavelength,grw_flux,label='GRW70')\n",
    "plt.plot(gd_wavelength,gd_flux, c='r',label='GD153')\n",
    "\n",
    "#adjust x range of plot\n",
    "plt.xlim(1400,20000)\n",
    "\n",
    "plt.legend(loc='best')\n",
    "plt.xlabel(r'$\\lambda$ (\\AA)',fontsize = 15)\n",
    "plt.ylabel(r'$log(F_{\\lambda}) (erg\\:s^{-1}\\:cm^{-2}\\:\\AA^{-1})$',fontsize = 15)\n",
    "plt.show()\n",
    "\n",
    "#uncomment if you want to save\n",
    "#plt.savefig('GD153_GRW70_spec.png',dpi=400)"
   ]
  },
  {
   "cell_type": "code",
   "execution_count": null,
   "metadata": {
    "collapsed": true
   },
   "outputs": [],
   "source": []
  }
 ],
 "metadata": {
  "kernelspec": {
   "display_name": "Python 2",
   "language": "python",
   "name": "python2"
  },
  "language_info": {
   "codemirror_mode": {
    "name": "ipython",
    "version": 2
   },
   "file_extension": ".py",
   "mimetype": "text/x-python",
   "name": "python",
   "nbconvert_exporter": "python",
   "pygments_lexer": "ipython2",
   "version": "2.7.13"
  }
 },
 "nbformat": 4,
 "nbformat_minor": 0
}
