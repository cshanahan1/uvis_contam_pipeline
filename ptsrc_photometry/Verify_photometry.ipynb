{
 "cells": [
  {
   "cell_type": "code",
   "execution_count": 2,
   "metadata": {
    "collapsed": true
   },
   "outputs": [],
   "source": [
    "import numpy as np\n",
    "%matplotlib inline\n",
    "import matplotlib.pyplot as plt\n",
    "from astropy.io import fits\n",
    "import glob\n",
    "import os\n",
    "\n",
    "#imports from mmy photometry code\n",
    "from ptsrc_photometry_photutils import run_dao_star_finder,calculate_bkgrnd,run_aperture_photometry\n",
    "from uvis_contam_tools import make_PAMcorr_image\n"
   ]
  },
  {
   "cell_type": "code",
   "execution_count": 3,
   "metadata": {
    "collapsed": true
   },
   "outputs": [],
   "source": [
    "#F218W files, LAcosmic ran on flts to remove rays\n",
    "\n",
    "f218w_files = glob.glob('/grp/hst/wfc3t/cshanahan/UVIS_contam_monitor/data/data/GRW70/F218W/flt_cleans/*.fits')\n",
    "\n",
    "#seperate files by detector quadrant \n",
    "amp_sorted_files=([],[],[],[]) #A, B, C, D\n",
    "\n",
    "sub_amp_dict={'UVIS1-C512A-SUB':(1,'A'),'UVIS1-C512B-SUB':(1,'B'),\\\n",
    "           'UVIS2-C512C-SUB':(2,'C'), 'UVIS2-C512D-SUB':(2,'D'),\\\n",
    "           'UVIS2-M512C-SUB':(2,'C')}\n",
    "\n",
    "for f in f218w_files:\n",
    "    subarray = fits.open(f)[0].header['aperture']\n",
    "    amp = sub_amp_dict[subarray][1]\n",
    "    \n",
    "    for i, val in enumerate(['A','B','C','D']):\n",
    "        if amp == val:\n",
    "            amp_sorted_files[i].append(f)"
   ]
  },
  {
   "cell_type": "code",
   "execution_count": 4,
   "metadata": {
    "collapsed": true
   },
   "outputs": [],
   "source": [
    "aperture_size = 10."
   ]
  },
  {
   "cell_type": "code",
   "execution_count": 5,
   "metadata": {},
   "outputs": [],
   "source": [
    "#process amp A data...first 10\n",
    "ampA = amp_sorted_files[0][0:10]\n",
    "\n",
    "\n",
    "for filee in ampA:\n",
    "    hdu_list = fits.open(filee)\n",
    "    filename = os.path.basename(filee)\n",
    "    \n",
    "    #find source in image\n",
    "    coo_tab = run_dao_star_finder(filee,filename,hdu_list)\n",
    "    \n",
    "    #sky subtract\n",
    "    back,backrms = calculate_bkgrnd(hdu_list, filename, coo_tab)\n",
    "    #PAM\n",
    "    make_PAMcorr_image(filee,outfile=filee+'.pamcorr', extension=0)\n",
    "    pam_filee = filee+'.pamcorr'\n",
    "    pam_hdu_list = fits.open(pam_filee)\n",
    "    pam_header = pam_hdu_list[0].header\n",
    "    pam_sci = pam_hdu_list[0].data\n",
    "    \n",
    "    \n",
    "    \n",
    "   \n"
   ]
  },
  {
   "cell_type": "code",
   "execution_count": null,
   "metadata": {
    "collapsed": true
   },
   "outputs": [],
   "source": []
  }
 ],
 "metadata": {
  "kernelspec": {
   "display_name": "Python 2",
   "language": "python",
   "name": "python2"
  },
  "language_info": {
   "codemirror_mode": {
    "name": "ipython",
    "version": 2
   },
   "file_extension": ".py",
   "mimetype": "text/x-python",
   "name": "python",
   "nbconvert_exporter": "python",
   "pygments_lexer": "ipython2",
   "version": "2.7.13"
  }
 },
 "nbformat": 4,
 "nbformat_minor": 2
}
